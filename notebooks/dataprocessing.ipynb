{
 "cells": [
  {
   "cell_type": "code",
   "execution_count": 1,
   "metadata": {},
   "outputs": [],
   "source": [
    "#this is to try out converting the pdf files to ndjson\n",
    "#importing libraries needed\n",
    "import pandas as pd\n",
    "import PyPDF2\n",
    "import json\n",
    "from pathlib import Path\n",
    "import sys\n",
    "import time\n",
    "\n",
    "\n"
   ]
  },
  {
   "cell_type": "code",
   "execution_count": 2,
   "metadata": {},
   "outputs": [],
   "source": [
    "import logging\n",
    "\n",
    "#creating loggers\n",
    "logger = logging.getLogger()\n",
    "logger.setLevel(logging.INFO)\n",
    "\n",
    "#creating handlers\n",
    "handlers = []\n",
    "\n",
    "#creating console handler\n",
    "ch = logging.StreamHandler()\n",
    "ch.setLevel(logging.WARNING)\n",
    "\n",
    "#creating file handler\n",
    "fh = logging.FileHandler('test.log')\n",
    "fh.setLevel(logging.INFO)\n",
    "\n",
    "#adding handlers\n",
    "handlers.append(ch)\n",
    "handlers.append(fh)\n",
    "\n",
    "# adding handlers to logger\n",
    "for handler in handlers:\n",
    "    logger.addHandler(handler)"
   ]
  },
  {
   "cell_type": "code",
   "execution_count": 3,
   "metadata": {},
   "outputs": [],
   "source": [
    "#Setting the file path\n",
    "proj_dir_parent = Path.cwd().parent\n",
    "proj_dir = str(proj_dir_parent)\n",
    "\n",
    "sys.path.append(proj_dir)\n"
   ]
  },
  {
   "cell_type": "code",
   "execution_count": 16,
   "metadata": {},
   "outputs": [
    {
     "name": "stdout",
     "output_type": "stream",
     "text": [
      "INFO: Preprocessing '/Users/moutazelias/Desktop/Desktop/Github/UAE-Law-RAG/data/raw/arwiki-latest-pages-articles-multistream.xml.bz2' to collect template definitions: this may take some time.\n",
      "INFO: Preprocessed 100000 pages\n",
      "INFO: Preprocessed 200000 pages\n",
      "INFO: Preprocessed 300000 pages\n",
      "INFO: Preprocessed 400000 pages\n",
      "INFO: Preprocessed 500000 pages\n",
      "INFO: Preprocessed 600000 pages\n",
      "INFO: Preprocessed 700000 pages\n",
      "INFO: Preprocessed 800000 pages\n",
      "INFO: Preprocessed 900000 pages\n",
      "INFO: Preprocessed 1000000 pages\n",
      "INFO: Preprocessed 1100000 pages\n",
      "INFO: Preprocessed 1200000 pages\n",
      "INFO: Preprocessed 1300000 pages\n",
      "INFO: Preprocessed 1400000 pages\n",
      "INFO: Preprocessed 1500000 pages\n",
      "INFO: Preprocessed 1600000 pages\n",
      "INFO: Preprocessed 1700000 pages\n",
      "INFO: Preprocessed 1800000 pages\n",
      "INFO: Preprocessed 1900000 pages\n",
      "INFO: Preprocessed 2000000 pages\n",
      "INFO: Preprocessed 2100000 pages\n",
      "INFO: Preprocessed 2200000 pages\n",
      "INFO: Preprocessed 2300000 pages\n",
      "INFO: Preprocessed 2400000 pages\n",
      "INFO: Preprocessed 2500000 pages\n",
      "INFO: Preprocessed 2600000 pages\n",
      "INFO: Preprocessed 2700000 pages\n",
      "INFO: Preprocessed 2800000 pages\n",
      "INFO: Preprocessed 2900000 pages\n",
      "INFO: Preprocessed 3000000 pages\n",
      "INFO: Preprocessed 3100000 pages\n",
      "INFO: Preprocessed 3200000 pages\n",
      "INFO: Preprocessed 3300000 pages\n",
      "INFO: Preprocessed 3400000 pages\n",
      "INFO: Preprocessed 3500000 pages\n",
      "INFO: Loaded 131347 templates in 241.6s\n",
      "INFO: Starting page extraction from /Users/moutazelias/Desktop/Desktop/Github/UAE-Law-RAG/data/raw/arwiki-latest-pages-articles-multistream.xml.bz2.\n",
      "INFO: Using 7 extract processes.\n",
      "WARNING: Template errors in article 'الصفحة الرئيسية' (46): title(1) recursion(0, 0, 0)\n",
      "WARNING: Template errors in article 'محافظة إدلب' (6914): title(1) recursion(0, 0, 0)\n",
      "WARNING: Template errors in article 'شمع' (6930): title(1) recursion(0, 0, 0)\n",
      "WARNING: Template errors in article 'كولومبيا' (11839): title(1) recursion(0, 0, 0)\n",
      "WARNING: Template errors in article 'دوال مثلثية' (15968): title(1) recursion(0, 0, 0)\n",
      "WARNING: Template errors in article 'وعد بلفور' (18285): title(2) recursion(0, 0, 0)\n",
      "WARNING: Template errors in article 'ليبيد' (22417): title(1) recursion(0, 0, 0)\n",
      "WARNING: Template errors in article 'كولسترول' (22540): title(1) recursion(0, 0, 0)\n",
      "WARNING: Template errors in article 'فيتامين دي' (22864): title(1) recursion(0, 0, 0)\n",
      "WARNING: Template errors in article 'تركيب ضوئي' (23343): title(1) recursion(0, 0, 0)\n",
      "WARNING: Template errors in article 'يخضور' (25635): title(1) recursion(0, 0, 0)\n",
      "WARNING: Template errors in article 'مايكل جاكسون' (27129): title(0) recursion(120, 0, 0)\n",
      "WARNING: Template errors in article 'نسخ (وراثة)' (31065): title(1) recursion(0, 0, 0)\n",
      "WARNING: Template errors in article 'ترجمة (وراثة)' (31067): title(1) recursion(0, 0, 0)\n",
      "WARNING: Template errors in article 'قائمة رؤساء وزراء اليابان' (32849): title(17) recursion(0, 0, 0)\n",
      "WARNING: Template errors in article 'أدرينالين' (35257): title(1) recursion(0, 0, 0)\n",
      "WARNING: Template errors in article 'نوكليوتيد' (35469): title(1) recursion(0, 0, 0)\n",
      "WARNING: Template errors in article 'سكر أحادي' (36038): title(1) recursion(0, 0, 0)\n",
      "WARNING: Template errors in article 'خشب' (36417): title(1) recursion(0, 0, 0)\n",
      "WARNING: Template errors in article 'ناقل عصبي' (39228): title(1) recursion(0, 0, 0)\n",
      "WARNING: Template errors in article 'سكر ثنائي' (42639): title(1) recursion(0, 0, 0)\n",
      "WARNING: Template errors in article 'فيتامين ألف' (45379): title(1) recursion(0, 0, 0)\n",
      "WARNING: Template errors in article 'حمض دهني' (47084): title(1) recursion(0, 0, 0)\n",
      "WARNING: Template errors in article 'حمض أميني' (61920): title(1) recursion(0, 0, 0)\n",
      "WARNING: Template errors in article 'فيتامين سي' (62830): title(1) recursion(0, 0, 0)\n",
      "WARNING: Template errors in article 'فيتامين بي 12' (63363): title(1) recursion(0, 0, 0)\n",
      "WARNING: Template errors in article 'فيتامين هـ' (66593): title(1) recursion(0, 0, 0)\n",
      "WARNING: Template errors in article 'فيتامين ك' (67411): title(1) recursion(0, 0, 0)\n",
      "WARNING: Template errors in article 'أيض' (68718): title(1) recursion(0, 0, 0)\n",
      "WARNING: Template errors in article 'غليسرول' (102212): title(1) recursion(0, 0, 0)\n",
      "WARNING: Template errors in article 'تضاعف الحمض النووي الريبوزي منقوص الأكسجين' (120162): title(1) recursion(0, 0, 0)\n",
      "WARNING: Template errors in article 'أمفيتامين' (138938): title(4) recursion(0, 0, 0)\n",
      "WARNING: Template errors in article 'توليب' (141746): title(1) recursion(0, 0, 0)\n",
      "WARNING: Template errors in article 'دون بيغ' (165316): title(0) recursion(36, 0, 0)\n",
      "WARNING: Template errors in article 'متعدد السكاريد' (172551): title(1) recursion(0, 0, 0)\n",
      "WARNING: Template errors in article 'سعال' (173625): title(1) recursion(0, 0, 0)\n",
      "WARNING: Template errors in article 'دورة حمض الستريك' (189110): title(1) recursion(0, 0, 0)\n",
      "WARNING: Template errors in article 'حمض الليمون' (201609): title(1) recursion(0, 0, 0)\n",
      "WARNING: Template errors in article 'سيرين' (202066): title(1) recursion(0, 0, 0)\n",
      "WARNING: Template errors in article 'تأشير الخلية' (210223): title(1) recursion(0, 0, 0)\n",
      "WARNING: Template errors in article 'لايسين' (230504): title(1) recursion(0, 0, 0)\n",
      "WARNING: Template errors in article 'فيتامينات بي' (234617): title(1) recursion(0, 0, 0)\n",
      "WARNING: Template errors in article 'كرياتين' (240184): title(1) recursion(0, 0, 0)\n",
      "WARNING: Template errors in article 'سلسلة نقل الإلكترون' (258034): title(1) recursion(0, 0, 0)\n",
      "WARNING: Template errors in article 'فسفرة تأكسدية' (258049): title(1) recursion(0, 0, 0)\n",
      "WARNING: Template errors in article 'هيم' (268912): title(1) recursion(0, 0, 0)\n",
      "WARNING: Template errors in article 'ستيرويد' (273190): title(1) recursion(0, 0, 0)\n",
      "WARNING: Template errors in article 'سرعة الصوت' (300357): title(1) recursion(0, 0, 0)\n",
      "WARNING: Template errors in article 'قصر الأمير بشتاك' (304182): title(1) recursion(0, 0, 0)\n",
      "WARNING: Template errors in article 'تنفس خلوي' (320859): title(1) recursion(0, 0, 0)\n",
      "WARNING: Template errors in article 'مضاد تأكسد' (321262): title(1) recursion(0, 0, 0)\n",
      "WARNING: Template errors in article 'حمض البيروفيك' (331633): title(1) recursion(0, 0, 0)\n",
      "WARNING: Template errors in article 'حمض أكسالوأسيتيك' (337457): title(1) recursion(0, 0, 0)\n",
      "WARNING: Template errors in article 'دورة اليوريا' (337654): title(1) recursion(0, 0, 0)\n",
      "WARNING: Template errors in article 'بروتين سكري' (363920): title(1) recursion(0, 0, 0)\n",
      "WARNING: Template errors in article 'خارق للطبيعة (مسلسل)' (377958): title(1) recursion(0, 0, 0)\n",
      "INFO: Extracted 100000 articles (152.1 art/s)\n",
      "WARNING: Template errors in article 'تكون الغليكوجين' (386847): title(1) recursion(0, 0, 0)\n",
      "WARNING: Template errors in article 'تحلل الغليكوجين' (389927): title(1) recursion(0, 0, 0)\n",
      "WARNING: Template errors in article 'رتيبة الحفني' (390590): title(1) recursion(0, 0, 0)\n",
      "WARNING: Template errors in article 'ماتشا' (513020): title(1) recursion(0, 0, 0)\n",
      "WARNING: Template errors in article 'نورإبينفرين' (580229): title(1) recursion(0, 0, 0)\n",
      "WARNING: Template errors in article 'دوبامين' (580219): title(1) recursion(0, 0, 0)\n",
      "WARNING: Template errors in article 'صوت بيروت' (592919): title(1) recursion(0, 0, 0)\n",
      "WARNING: Template errors in article 'سي-سبان' (631781): title(1) recursion(0, 0, 0)\n",
      "WARNING: Template errors in article 'حمض الشيكيميك' (719354): title(1) recursion(0, 0, 0)\n",
      "WARNING: Template errors in article 'إسرائيليون' (719986): title(1) recursion(0, 0, 0)\n",
      "WARNING: Template errors in article 'ألانين' (761921): title(1) recursion(0, 0, 0)\n",
      "INFO: Extracted 200000 articles (177.7 art/s)\n",
      "WARNING: Template errors in article 'أرجنين' (828551): title(1) recursion(0, 0, 0)\n",
      "WARNING: Template errors in article 'أسعد بوناشي' (849498): title(1) recursion(0, 0, 0)\n",
      "WARNING: Template errors in article 'تخمر لبني' (888760): title(1) recursion(0, 0, 0)\n",
      "WARNING: Template errors in article 'برولين' (893851): title(1) recursion(0, 0, 0)\n",
      "WARNING: Template errors in article 'حمض التفاح' (904361): title(1) recursion(0, 0, 0)\n",
      "WARNING: Template errors in article 'جزيرة الكنز (فيلم 1950)' (1003610): title(1) recursion(0, 0, 0)\n",
      "WARNING: Template errors in article 'البويضاء' (1021191): title(1) recursion(0, 0, 0)\n",
      "WARNING: Template errors in article 'وسترلوند 2' (1046674): title(1) recursion(0, 0, 0)\n",
      "WARNING: Template errors in article 'سكر أميني' (1054667): title(1) recursion(0, 0, 0)\n",
      "WARNING: Template errors in article 'تفاعل ضوئي' (1132859): title(1) recursion(0, 0, 0)\n",
      "WARNING: Template errors in article 'كورنو غراندي' (1154301): title(1) recursion(0, 0, 0)\n",
      "WARNING: Template errors in article 'حقوق الإنسان في البحرين' (1166487): title(1) recursion(0, 0, 0)\n",
      "WARNING: Template errors in article 'تاريخ التقسيم الإداري المغربي' (1198440): title(1) recursion(0, 0, 0)\n",
      "WARNING: Template errors in article 'حقل جاذبية' (1220944): title(1) recursion(0, 0, 0)\n",
      "WARNING: Template errors in article 'هرمونات الغدة الدرقية' (1247297): title(1) recursion(0, 0, 0)\n",
      "INFO: Extracted 300000 articles (172.2 art/s)\n",
      "WARNING: Template errors in article 'لانا باريلا' (1292008): title(1) recursion(0, 0, 0)\n",
      "WARNING: Template errors in article 'تلودي' (1295527): title(2) recursion(0, 0, 0)\n",
      "WARNING: Template errors in article 'مسار فوسفات البنتوز' (1335915): title(1) recursion(0, 0, 0)\n",
      "WARNING: Template errors in article 'محمية ومتنزه بوابات القطب الشمالي الوطنية' (1511403): title(1) recursion(0, 0, 0)\n",
      "WARNING: Template errors in article 'دردارية' (1530428): title(1) recursion(0, 0, 0)\n",
      "WARNING: Template errors in article 'مجموعة M94' (1558316): title(1) recursion(0, 0, 0)\n",
      "WARNING: Template errors in article 'جان غابين' (1577795): title(1) recursion(0, 0, 0)\n",
      "WARNING: Template errors in article 'تأثيرات أصوات الروبوت' (1662897): title(1) recursion(0, 0, 0)\n",
      "WARNING: Template errors in article 'كاروتينات' (1664733): title(1) recursion(0, 0, 0)\n",
      "WARNING: Template errors in article 'روي ڨيلوزو' (1720138): title(1) recursion(0, 0, 0)\n",
      "WARNING: Template errors in article 'تصخر العظم' (1747992): title(1) recursion(0, 0, 0)\n",
      "WARNING: Template errors in article 'نازعة هيدروجين البيروفات' (1759866): title(1) recursion(0, 0, 0)\n",
      "WARNING: Template errors in article 'بروتين كيناز النشط' (1765668): title(1) recursion(0, 0, 0)\n",
      "WARNING: Template errors in article 'قائمة شخصيات هجوم العمالقة' (1781418): title(0) recursion(0, 0, 50)\n",
      "INFO: Extracted 400000 articles (193.2 art/s)\n",
      "WARNING: Template errors in article 'هوتيلز كومبايند' (1824978): title(1) recursion(0, 0, 0)\n",
      "WARNING: Template errors in article 'حمض الأسبارتيك' (1838993): title(1) recursion(0, 0, 0)\n",
      "WARNING: Template errors in article 'أكسدة الحمض الدهني' (1851934): title(1) recursion(0, 0, 0)\n",
      "WARNING: Template errors in article 'أنتونوف أن-32' (1860924): title(1) recursion(0, 0, 0)\n",
      "WARNING: Template errors in article 'لوكهيد بيه-3 أوريون' (1901762): title(1) recursion(0, 0, 0)\n",
      "WARNING: Template errors in article 'أليس هزيل' (1957908): title(1) recursion(0, 0, 0)\n",
      "WARNING: Template errors in article 'هستيدين' (1975224): title(1) recursion(0, 0, 0)\n",
      "WARNING: Template errors in article 'حمض الجلوتاميك' (1975231): title(1) recursion(0, 0, 0)\n",
      "WARNING: Template errors in article 'إرثروز 4-فسفات' (2191912): title(1) recursion(0, 0, 0)\n",
      "WARNING: Template errors in article 'عامل مرافق (كيمياء حيوية)' (2195496): title(1) recursion(0, 0, 0)\n",
      "INFO: Extracted 500000 articles (160.5 art/s)\n",
      "WARNING: Template errors in article 'عفت عنان' (2269199): title(1) recursion(0, 0, 0)\n",
      "WARNING: Template errors in article 'عائشة كولين' (2279359): title(1) recursion(0, 0, 0)\n",
      "WARNING: Template errors in article 'أسيتيل كو-أ' (2319309): title(1) recursion(0, 0, 0)\n",
      "WARNING: Template errors in article 'بحر أبو جريشة' (2435146): title(0) recursion(84, 0, 0)\n",
      "WARNING: Template errors in article 'تثبيت الكربون' (2450274): title(1) recursion(0, 0, 0)\n",
      "WARNING: Template errors in article 'بيرسي لافون جوليان' (2458295): title(1) recursion(0, 0, 0)\n",
      "WARNING: Template errors in article 'عبد الرحيم النشيري' (2479933): title(1) recursion(0, 0, 0)\n",
      "INFO: Extracted 600000 articles (205.2 art/s)\n",
      "WARNING: Template errors in article 'التحضر في تونس' (2556809): title(2) recursion(0, 0, 0)\n",
      "WARNING: Template errors in article 'إيكوزانويد' (2651563): title(1) recursion(0, 0, 0)\n",
      "WARNING: Template errors in article 'بحيرة كولدستون' (2672064): title(1) recursion(0, 0, 0)\n",
      "INFO: Extracted 700000 articles (590.3 art/s)\n",
      "WARNING: Template errors in article 'أيض البيورين' (2803857): title(1) recursion(0, 0, 0)\n",
      "WARNING: Template errors in article 'بروتيوغليكان' (2803873): title(1) recursion(0, 0, 0)\n",
      "WARNING: Template errors in article 'حقوق المثليين حسب الدولة أو الإقليم' (2929223): title(1) recursion(0, 0, 0)\n",
      "WARNING: Template errors in article 'نزع أمين' (3014007): title(1) recursion(0, 0, 0)\n",
      "WARNING: Template errors in article 'شحميات سفينجولية' (3045526): title(1) recursion(0, 0, 0)\n",
      "WARNING: Template errors in article 'حمض اللبنيك' (3051790): title(1) recursion(0, 0, 0)\n",
      "WARNING: Template errors in article 'تحلل الدهن' (3057599): title(1) recursion(0, 0, 0)\n",
      "WARNING: Template errors in article 'موظف الشهر' (3083584): title(1) recursion(0, 0, 0)\n",
      "WARNING: Template errors in article 'مسار أيضي' (3088615): title(1) recursion(0, 0, 0)\n",
      "INFO: Extracted 800000 articles (280.1 art/s)\n",
      "WARNING: Template errors in article 'حمض الأمينوليفيولينيك' (3145492): title(1) recursion(0, 0, 0)\n",
      "WARNING: Template errors in article 'ريبوز 5-فوسفات' (3170330): title(1) recursion(0, 0, 0)\n",
      "WARNING: Template errors in article 'ايكوكروم' (3197132): title(1) recursion(0, 0, 0)\n",
      "WARNING: Template errors in article 'حمض أميني عطري' (3213792): title(1) recursion(0, 0, 0)\n",
      "WARNING: Template errors in article 'إميلي سارتين' (3253690): title(2) recursion(0, 0, 0)\n",
      "WARNING: Template errors in article 'هيلين وايت' (3253692): title(1) recursion(0, 0, 0)\n",
      "WARNING: Template errors in article 'أجسام كيتونية' (3271870): title(1) recursion(0, 0, 0)\n",
      "WARNING: Template errors in article 'حمض أميني منتج للغلوكوز' (3316305): title(1) recursion(0, 0, 0)\n",
      "WARNING: Template errors in article 'استقلاب البروتين' (3318628): title(1) recursion(0, 0, 0)\n",
      "WARNING: Template errors in article 'أيض الليبيدات' (3318761): title(1) recursion(0, 0, 0)\n",
      "WARNING: Template errors in article 'أيض الحموض الدهنية' (3318784): title(1) recursion(0, 0, 0)\n",
      "WARNING: Template errors in article 'هدم البروتين' (3318797): title(1) recursion(0, 0, 0)\n",
      "WARNING: Template errors in article 'أيض الكربوهيدرات' (3318801): title(1) recursion(0, 0, 0)\n",
      "WARNING: Template errors in article 'هدم الكربوهيدرات' (3318865): title(1) recursion(0, 0, 0)\n",
      "WARNING: Template errors in article 'أيض الكبريت' (3319758): title(1) recursion(0, 0, 0)\n",
      "WARNING: Template errors in article 'أيض البايريميدين' (3320480): title(1) recursion(0, 0, 0)\n",
      "WARNING: Template errors in article 'أيض الزايلوز' (3320553): title(1) recursion(0, 0, 0)\n",
      "WARNING: Template errors in article 'أيض الحمض النووي' (3344741): title(1) recursion(0, 0, 0)\n",
      "WARNING: Template errors in article 'حقوق المثليين في آسيا' (3404574): title(1) recursion(0, 0, 0)\n",
      "WARNING: Template errors in article 'الانتداب البريطاني على فلسطين (صك قانوني)' (3454382): title(1) recursion(0, 0, 0)\n",
      "INFO: Extracted 900000 articles (207.5 art/s)\n",
      "WARNING: Template errors in article 'فقد البروتين الشحمي بيتا من الدم' (3539057): title(1) recursion(0, 0, 0)\n",
      "WARNING: Template errors in article 'نقص كوليسترول الدم' (3542510): title(1) recursion(0, 0, 0)\n",
      "WARNING: Template errors in article 'السباحة في بطولة العالم للألعاب المائية 2017 - 50 متر حرة - رجال' (3736328): title(6) recursion(0, 0, 0)\n",
      "WARNING: Template errors in article 'رشدي العاني' (3744411): title(1) recursion(0, 0, 0)\n",
      "INFO: Extracted 1000000 articles (231.5 art/s)\n",
      "WARNING: Template errors in article 'مالك (مغني)' (3811710): title(0) recursion(96, 0, 0)\n",
      "WARNING: Template errors in article 'ناقل عصبي أحادي الأمين' (3983402): title(1) recursion(0, 0, 0)\n",
      "WARNING: Template errors in article 'سونغ ها جونغ' (4201230): title(0) recursion(96, 0, 0)\n",
      "WARNING: Template errors in article 'صميم البروتين الشحمي' (4211190): title(1) recursion(0, 0, 0)\n",
      "WARNING: Template errors in article 'تحلل الجلوكوز' (4254398): title(1) recursion(0, 0, 0)\n",
      "WARNING: Template errors in article 'نانسي غرين' (4291468): title(2) recursion(0, 0, 0)\n",
      "WARNING: Template errors in article 'كنزة التازي' (4307695): title(2) recursion(0, 0, 0)\n",
      "WARNING: Template errors in article 'تحلل الفركتوز' (4310138): title(1) recursion(0, 0, 0)\n",
      "WARNING: Template errors in article 'درة محفوظي' (4312161): title(2) recursion(0, 0, 0)\n",
      "WARNING: Template errors in article 'تكون الشحم' (4315255): title(1) recursion(0, 0, 0)\n",
      "WARNING: Template errors in article 'غزلان سيبا' (4317611): title(2) recursion(0, 0, 0)\n",
      "WARNING: Template errors in article 'أوفيليا بينسون' (4328839): title(1) recursion(0, 0, 0)\n",
      "WARNING: Template errors in article 'ساندرا كوفمان' (4333517): title(1) recursion(0, 0, 0)\n",
      "WARNING: Template errors in article 'كيتي ماريون' (4333563): title(1) recursion(0, 0, 0)\n",
      "WARNING: Template errors in article 'كانديلاريا فيغيريدو' (4334187): title(1) recursion(0, 0, 0)\n",
      "WARNING: Template errors in article 'ماريا سيلفا كروز' (4334259): title(1) recursion(0, 0, 0)\n",
      "WARNING: Template errors in article 'غابرييلا سابو' (4334442): title(2) recursion(0, 0, 0)\n",
      "WARNING: Template errors in article 'إليان بيكس نينيناهازوي' (4334481): title(1) recursion(0, 0, 0)\n",
      "WARNING: Template errors in article 'مهرجان ستونهنج الحر' (4334711): title(2) recursion(0, 0, 0)\n",
      "WARNING: Template errors in article 'آنا شيتينينا' (4334742): title(1) recursion(0, 0, 0)\n",
      "WARNING: Template errors in article 'كورين يو' (4334760): title(2) recursion(0, 0, 0)\n",
      "WARNING: Template errors in article 'كريستينا سفيتشينسكايا' (4334774): title(1) recursion(0, 0, 0)\n",
      "WARNING: Template errors in article 'فاطمة الزيدية' (4334778): title(2) recursion(0, 0, 0)\n",
      "WARNING: Template errors in article 'استحداث الجلوكوز' (4339832): title(1) recursion(0, 0, 0)\n",
      "WARNING: Template errors in article 'فودماب' (4343370): title(1) recursion(0, 0, 0)\n",
      "WARNING: Template errors in article 'إم 36 (مدمرة دبابات)' (4593900): title(1) recursion(0, 0, 0)\n",
      "WARNING: Template errors in article 'كمال القرقني' (4600328): title(1) recursion(0, 0, 0)\n",
      "WARNING: Template errors in article 'سلسلة الأحماض الأمينية المشبعة' (4627780): title(1) recursion(0, 0, 0)\n",
      "INFO: Extracted 1100000 articles (111.4 art/s)\n",
      "INFO: Extracted 1200000 articles (63.8 art/s)\n",
      "WARNING: Template errors in article 'مستر كرايزي' (5177226): title(0) recursion(12, 0, 0)\n",
      "INFO: Extracted 1300000 articles (103.3 art/s)\n",
      "WARNING: Template errors in article 'ويليام بي. بلونت' (5577937): title(1) recursion(0, 0, 0)\n",
      "WARNING: Template errors in article 'جيمي فوستر' (5593161): title(0) recursion(0, 0, 2)\n",
      "INFO: Extracted 1400000 articles (92.2 art/s)\n",
      "INFO: Extracted 1500000 articles (54.4 art/s)\n",
      "WARNING: Template errors in article 'حقوق المثليين في الأوروغواي' (5844172): title(1) recursion(0, 0, 0)\n",
      "INFO: Extracted 1600000 articles (295.9 art/s)\n",
      "WARNING: Template errors in article 'هارسيمرات كور بادال' (6030898): title(1) recursion(0, 0, 0)\n",
      "INFO: Extracted 1700000 articles (163.8 art/s)\n",
      "WARNING: Template errors in article 'قرصنة الهاتف' (6318860): title(1) recursion(0, 0, 0)\n",
      "INFO: Extracted 1800000 articles (80.8 art/s)\n",
      "WARNING: Template errors in article 'هوموسيرين' (6609405): title(1) recursion(0, 0, 0)\n",
      "WARNING: Template errors in article 'فيتامين' (6630138): title(1) recursion(0, 0, 0)\n",
      "WARNING: Template errors in article 'هيدروكسيلاز الحمض الأميني العطري المعتمد على البيوبتيرين' (6656896): title(1) recursion(0, 0, 0)\n",
      "WARNING: Template errors in article 'N-ميثيل فينيثيلامين' (6658542): title(1) recursion(0, 0, 0)\n",
      "WARNING: Template errors in article 'N-ميثيل تيرامين' (6661139): title(1) recursion(0, 0, 0)\n",
      "WARNING: Template errors in article 'سينفرين' (6673941): title(1) recursion(0, 0, 0)\n",
      "WARNING: Template errors in article '3-ميثوكسي التيرامين' (6674221): title(1) recursion(0, 0, 0)\n",
      "INFO: Extracted 1900000 articles (76.3 art/s)\n",
      "WARNING: Template errors in article 'شيلي ستوكس' (6807006): title(1) recursion(0, 0, 0)\n",
      "WARNING: Template errors in article 'داني تايلر' (6825418): title(1) recursion(0, 0, 0)\n",
      "WARNING: Template errors in article 'دوري أبطال الكونكاكاف 2020' (6862651): title(1) recursion(0, 0, 0)\n",
      "WARNING: Template errors in article 'كلاش (مغني فرنسي)' (7113082): title(0) recursion(60, 0, 0)\n",
      "WARNING: Template errors in article 'الدولة العثمانية في الحرب العالمية الأولى' (7170892): title(0) recursion(0, 0, 6)\n",
      "WARNING: Template errors in article 'نورة البورصالي' (7319117): title(1) recursion(0, 0, 0)\n",
      "WARNING: Template errors in article 'فوسفات ثنائي هيدروكسي الأسيتون' (7360238): title(1) recursion(0, 0, 0)\n",
      "WARNING: Template errors in article 'وضعية الأصل' (7413468): title(2) recursion(0, 0, 0)\n",
      "WARNING: Template errors in article 'ناتيف (مكتب ارتباط إسرائيلي)' (7473019): title(1) recursion(0, 0, 0)\n",
      "INFO: Extracted 2000000 articles (134.7 art/s)\n",
      "WARNING: Template errors in article 'غرام الأسياد (فيلم)' (7796165): title(1) recursion(0, 0, 0)\n",
      "WARNING: Template errors in article 'قائمة الاختراعات والاكتشافات الأذربيجانية' (7818184): title(1) recursion(0, 0, 0)\n",
      "WARNING: Template errors in article 'خزانة المواد الكيميائية' (7856359): title(1) recursion(0, 0, 0)\n",
      "WARNING: Template errors in article 'احتلال معان' (7891117): title(1) recursion(0, 0, 0)\n",
      "WARNING: Template errors in article 'حياة الجوهري (مسلسل)' (8215685): title(1) recursion(0, 0, 0)\n",
      "WARNING: Template errors in article 'ريان البلوشي' (8229138): title(1) recursion(0, 0, 0)\n",
      "INFO: Extracted 2100000 articles (111.9 art/s)\n",
      "WARNING: Template errors in article 'مضيق ناريس' (8361827): title(1) recursion(0, 0, 0)\n",
      "WARNING: Template errors in article 'سفلت' (8966149): title(1) recursion(0, 0, 0)\n",
      "INFO: Extracted 2200000 articles (97.5 art/s)\n",
      "WARNING: Template errors in article 'التسوية الإنجليزية الفرنسية المؤقتة 1918' (9211544): title(1) recursion(0, 0, 0)\n",
      "WARNING: Template errors in article 'سوكوويا' (9243633): title(1) recursion(0, 0, 0)\n",
      "WARNING: Template errors in article 'تكون الكيتون' (9272562): title(1) recursion(0, 0, 0)\n",
      "WARNING: Template errors in article 'ديزرت دايموند أرينا' (9299595): title(1) recursion(0, 0, 0)\n",
      "WARNING: Template errors in article '4-هيدروكسي نورإفدرين' (9301256): title(1) recursion(0, 0, 0)\n",
      "WARNING: Template errors in article '4-هيدروكسي فينيل أسيتون' (9301423): title(1) recursion(0, 0, 0)\n",
      "WARNING: Template errors in article 'فينيل أسيتون' (9301718): title(1) recursion(0, 0, 0)\n",
      "WARNING: Template errors in article 'قلعة كلينتون' (9316400): title(0) recursion(116, 0, 0)\n",
      "WARNING: Template errors in article 'مبنى القرن (ميدان الاتحاد، مانهاتن)' (9345359): title(0) recursion(116, 0, 0)\n",
      "WARNING: Template errors in article 'أشمون عازر الثاني' (9350056): title(1) recursion(0, 0, 0)\n",
      "WARNING: Template errors in article 'فائض المصاوغ المرآتي' (9350670): title(2) recursion(0, 0, 0)\n",
      "WARNING: Template errors in article 'جيمي فوستر(لاعب رغبي)' (9371076): title(0) recursion(0, 0, 2)\n",
      "WARNING: Template errors in article 'داني واشبروك' (9378939): title(0) recursion(0, 0, 2)\n",
      "WARNING: Template errors in article 'تقاطع على اتحاد' (9429704): title(2) recursion(0, 0, 0)\n",
      "INFO: Finished 7-process extraction of 2260173 articles in 17737.9s (127.4 art/s)\n"
     ]
    }
   ],
   "source": [
    "!wikiextractor -o \"$proj_dir\"/data/raw/output --json \"$proj_dir\"/data/raw/arwiki-latest-pages-articles-multistream.xml.bz2\n",
    "\n"
   ]
  },
  {
   "cell_type": "code",
   "execution_count": 4,
   "metadata": {},
   "outputs": [],
   "source": [
    "#Function to conver PDF in input dir to jsonl in output\n",
    "def pdf_to_json(input_path, output_path):\n",
    "\n",
    "    #open input path and get dir\n",
    "    input_pa = Path(input_path)\n",
    "\n",
    "    # for file in input_path:\n",
    "    for f in input_pa.iterdir():\n",
    "\n",
    "        if f.suffix == \".pdf\":\n",
    "            pdf_path = f\n",
    "\n",
    "            pdf = PyPDF2.PdfReader(pdf_path)\n",
    "            for i in range(len(pdf.pages)):\n",
    "                page = pdf.pages[i]\n",
    "                text = page.extract_text()\n",
    "\n",
    "                temp = {\"title\":f\"{f.name}\" , \"page\":f\"{i}\",\"text\":f\"{text}\"}\n",
    "\n",
    "                with open(output_path, 'a') as o:\n",
    "                    json.dump(temp, o)\n",
    "                    o.write('\\n')\n",
    "    "
   ]
  },
  {
   "cell_type": "code",
   "execution_count": 5,
   "metadata": {},
   "outputs": [
    {
     "ename": "FileNotFoundError",
     "evalue": "[Errno 2] No such file or directory: '/Users/moutazelias/Desktop/Desktop/Github/UAE-Law-RAG/data/raw/output/PDF/pdfjsonl.jsonl'",
     "output_type": "error",
     "traceback": [
      "\u001b[0;31m---------------------------------------------------------------------------\u001b[0m",
      "\u001b[0;31mFileNotFoundError\u001b[0m                         Traceback (most recent call last)",
      "Cell \u001b[0;32mIn[5], line 1\u001b[0m\n\u001b[0;32m----> 1\u001b[0m pdf_to_json(input_path\u001b[39m=\u001b[39;49m\u001b[39mf\u001b[39;49m\u001b[39m\"\u001b[39;49m\u001b[39m{\u001b[39;49;00mproj_dir\u001b[39m}\u001b[39;49;00m\u001b[39m/PDF docs/\u001b[39;49m\u001b[39m\"\u001b[39;49m, output_path\u001b[39m=\u001b[39;49m\u001b[39mf\u001b[39;49m\u001b[39m\"\u001b[39;49m\u001b[39m{\u001b[39;49;00mproj_dir\u001b[39m}\u001b[39;49;00m\u001b[39m/data/raw/output/PDF/pdfjsonl.jsonl\u001b[39;49m\u001b[39m\"\u001b[39;49m)\n",
      "Cell \u001b[0;32mIn[4], line 20\u001b[0m, in \u001b[0;36mpdf_to_json\u001b[0;34m(input_path, output_path)\u001b[0m\n\u001b[1;32m     16\u001b[0m text \u001b[39m=\u001b[39m page\u001b[39m.\u001b[39mextract_text()\n\u001b[1;32m     18\u001b[0m temp \u001b[39m=\u001b[39m {\u001b[39m\"\u001b[39m\u001b[39mtitle\u001b[39m\u001b[39m\"\u001b[39m:\u001b[39mf\u001b[39m\u001b[39m\"\u001b[39m\u001b[39m{\u001b[39;00mf\u001b[39m.\u001b[39mname\u001b[39m}\u001b[39;00m\u001b[39m\"\u001b[39m , \u001b[39m\"\u001b[39m\u001b[39mpage\u001b[39m\u001b[39m\"\u001b[39m:\u001b[39mf\u001b[39m\u001b[39m\"\u001b[39m\u001b[39m{\u001b[39;00mi\u001b[39m}\u001b[39;00m\u001b[39m\"\u001b[39m,\u001b[39m\"\u001b[39m\u001b[39mtext\u001b[39m\u001b[39m\"\u001b[39m:\u001b[39mf\u001b[39m\u001b[39m\"\u001b[39m\u001b[39m{\u001b[39;00mtext\u001b[39m}\u001b[39;00m\u001b[39m\"\u001b[39m}\n\u001b[0;32m---> 20\u001b[0m \u001b[39mwith\u001b[39;00m \u001b[39mopen\u001b[39;49m(output_path, \u001b[39m'\u001b[39;49m\u001b[39ma\u001b[39;49m\u001b[39m'\u001b[39;49m) \u001b[39mas\u001b[39;00m o:\n\u001b[1;32m     21\u001b[0m     json\u001b[39m.\u001b[39mdump(temp, o)\n\u001b[1;32m     22\u001b[0m     o\u001b[39m.\u001b[39mwrite(\u001b[39m'\u001b[39m\u001b[39m\\n\u001b[39;00m\u001b[39m'\u001b[39m)\n",
      "File \u001b[0;32m/opt/homebrew/lib/python3.11/site-packages/IPython/core/interactiveshell.py:284\u001b[0m, in \u001b[0;36m_modified_open\u001b[0;34m(file, *args, **kwargs)\u001b[0m\n\u001b[1;32m    277\u001b[0m \u001b[39mif\u001b[39;00m file \u001b[39min\u001b[39;00m {\u001b[39m0\u001b[39m, \u001b[39m1\u001b[39m, \u001b[39m2\u001b[39m}:\n\u001b[1;32m    278\u001b[0m     \u001b[39mraise\u001b[39;00m \u001b[39mValueError\u001b[39;00m(\n\u001b[1;32m    279\u001b[0m         \u001b[39mf\u001b[39m\u001b[39m\"\u001b[39m\u001b[39mIPython won\u001b[39m\u001b[39m'\u001b[39m\u001b[39mt let you open fd=\u001b[39m\u001b[39m{\u001b[39;00mfile\u001b[39m}\u001b[39;00m\u001b[39m by default \u001b[39m\u001b[39m\"\u001b[39m\n\u001b[1;32m    280\u001b[0m         \u001b[39m\"\u001b[39m\u001b[39mas it is likely to crash IPython. If you know what you are doing, \u001b[39m\u001b[39m\"\u001b[39m\n\u001b[1;32m    281\u001b[0m         \u001b[39m\"\u001b[39m\u001b[39myou can use builtins\u001b[39m\u001b[39m'\u001b[39m\u001b[39m open.\u001b[39m\u001b[39m\"\u001b[39m\n\u001b[1;32m    282\u001b[0m     )\n\u001b[0;32m--> 284\u001b[0m \u001b[39mreturn\u001b[39;00m io_open(file, \u001b[39m*\u001b[39;49margs, \u001b[39m*\u001b[39;49m\u001b[39m*\u001b[39;49mkwargs)\n",
      "\u001b[0;31mFileNotFoundError\u001b[0m: [Errno 2] No such file or directory: '/Users/moutazelias/Desktop/Desktop/Github/UAE-Law-RAG/data/raw/output/PDF/pdfjsonl.jsonl'"
     ]
    }
   ],
   "source": [
    "pdf_to_json(input_path=f\"{proj_dir}/PDF docs/\", output_path=f\"{proj_dir}/data/raw/output/PDF/pdfjsonl.jsonl\")"
   ]
  },
  {
   "cell_type": "code",
   "execution_count": 6,
   "metadata": {},
   "outputs": [],
   "source": [
    "from src.preprocessing.Preprocessing import folder_to_json"
   ]
  },
  {
   "cell_type": "code",
   "execution_count": 7,
   "metadata": {},
   "outputs": [
    {
     "data": {
      "application/vnd.jupyter.widget-view+json": {
       "model_id": "cabffa0e591842749628b151d9088e8d",
       "version_major": 2,
       "version_minor": 0
      },
      "text/plain": [
       "Processing:   0%|          | 0/6745 [00:00<?, ?file/s]"
      ]
     },
     "metadata": {},
     "output_type": "display_data"
    },
    {
     "name": "stdout",
     "output_type": "stream",
     "text": [
      "Wiki processed in 59.15 seconds!\n"
     ]
    }
   ],
   "source": [
    "folder = proj_dir_parent / 'data/raw/output'\n",
    "folder_out = proj_dir_parent / 'data/consolidated/'\n",
    "folder_to_json(folder, folder_out, 'ar_wiki')"
   ]
  },
  {
   "cell_type": "code",
   "execution_count": 4,
   "metadata": {},
   "outputs": [],
   "source": [
    "from tqdm.auto import tqdm\n",
    "import pickle\n",
    "from haystack.nodes import PreProcessor\n"
   ]
  },
  {
   "cell_type": "code",
   "execution_count": 9,
   "metadata": {},
   "outputs": [
    {
     "name": "stdout",
     "output_type": "stream",
     "text": [
      "/Users/moutazelias/Desktop/Desktop/Github/UAE-Law-RAG\n"
     ]
    }
   ],
   "source": [
    "proj_dir = Path.cwd().parent\n",
    "print(proj_dir)"
   ]
  },
  {
   "cell_type": "code",
   "execution_count": 10,
   "metadata": {},
   "outputs": [],
   "source": [
    "files_in = list((proj_dir / 'data/consolidated').glob('*.ndjson'))\n",
    "folder_out = proj_dir / 'data/processed'\n",
    "folder_out_str = str(folder_out)\n"
   ]
  },
  {
   "cell_type": "code",
   "execution_count": 11,
   "metadata": {},
   "outputs": [],
   "source": [
    "with open(files_in[0], 'r') as f:\n",
    "    articles = [json.loads(line) for line in f]"
   ]
  },
  {
   "cell_type": "code",
   "execution_count": 12,
   "metadata": {},
   "outputs": [],
   "source": [
    "PP = PreProcessor(\n",
    "    clean_whitespace = True,\n",
    "    clean_header_footer = False,\n",
    "    clean_empty_lines = True,\n",
    "    remove_substrings = None,\n",
    "    split_by='word',\n",
    "    split_length = 200,\n",
    "    split_overlap = 50,\n",
    "    split_respect_sentence_boundary = True,\n",
    "    tokenizer_model_folder = None,\n",
    "    id_hash_keys = None,\n",
    "    progress_bar = True,\n",
    "    add_page_number = False,\n",
    "    max_chars_check = 10000\n",
    ")"
   ]
  },
  {
   "cell_type": "code",
   "execution_count": 13,
   "metadata": {},
   "outputs": [
    {
     "name": "stdout",
     "output_type": "stream",
     "text": [
      "CPU times: user 2 µs, sys: 1e+03 ns, total: 3 µs\n",
      "Wall time: 5.01 µs\n"
     ]
    },
    {
     "name": "stderr",
     "output_type": "stream",
     "text": [
      "Preprocessing:   3%|▎         | 3150/100000 [00:00<00:16, 5721.61docs/s]We found one or more sentences whose split count is higher than the split length.\n",
      "Preprocessing:  63%|██████▎   | 62990/100000 [00:37<00:22, 1671.10docs/s]Document 1d1357a32c6cd115525ceb0590e6d67d is 11314 characters long after preprocessing, where the maximum length should be 10000. Something might be wrong with the splitting, check the document affected to prevent issues at query time. This document will be now hard-split at 10000 chars recursively.\n",
      "Preprocessing:  79%|███████▉  | 78782/100000 [00:51<00:24, 855.24docs/s] Document eca1c79de6ca898903e5db0a44a54803 is 24659 characters long after preprocessing, where the maximum length should be 10000. Something might be wrong with the splitting, check the document affected to prevent issues at query time. This document will be now hard-split at 10000 chars recursively.\n",
      "Document 8a59ff0086cc7772046f54a065566ff9 is 14659 characters long after preprocessing, where the maximum length should be 10000. Something might be wrong with the splitting, check the document affected to prevent issues at query time. This document will be now hard-split at 10000 chars recursively.\n",
      "Preprocessing: 100%|██████████| 100000/100000 [01:05<00:00, 1534.77docs/s]\n"
     ]
    }
   ],
   "source": [
    "%time\n",
    "documents = PP.process(articles)"
   ]
  },
  {
   "cell_type": "code",
   "execution_count": 14,
   "metadata": {},
   "outputs": [
    {
     "data": {
      "text/plain": [
       "8"
      ]
     },
     "execution_count": 14,
     "metadata": {},
     "output_type": "execute_result"
    }
   ],
   "source": [
    "os.cpu_count()  "
   ]
  },
  {
   "cell_type": "code",
   "execution_count": 16,
   "metadata": {},
   "outputs": [
    {
     "ename": "TypeError",
     "evalue": "ProcessPoolExecutor.__init__() got an unexpected keyword argument 'num_workers'",
     "output_type": "error",
     "traceback": [
      "\u001b[0;31m---------------------------------------------------------------------------\u001b[0m",
      "\u001b[0;31mTypeError\u001b[0m                                 Traceback (most recent call last)",
      "File \u001b[0;32m<timed exec>:26\u001b[0m\n",
      "File \u001b[0;32m<timed exec>:19\u001b[0m, in \u001b[0;36mparallel_preprocessing\u001b[0;34m(articles)\u001b[0m\n",
      "\u001b[0;31mTypeError\u001b[0m: ProcessPoolExecutor.__init__() got an unexpected keyword argument 'num_workers'"
     ]
    }
   ],
   "source": [
    "%%time\n",
    "import os\n",
    "import concurrent.futures as cf\n",
    "\n",
    "def parallel_preprocessing(articles):\n",
    "    # Utility function to divide the articles into smaller chunks\n",
    "    def chunkify(lst, n):\n",
    "        \"\"\"Yield successive n-sized chunks from lst.\"\"\"\n",
    "        for i in range(0, len(lst), n):\n",
    "            yield lst[i:i + n]\n",
    "\n",
    "    # Size of each chunk. Adjust based on your needs.\n",
    "    CHUNK_SIZE = 10000  \n",
    "    article_chunks = list(chunkify(articles, CHUNK_SIZE))\n",
    "\n",
    "    # Number of processes to run in parallel.\n",
    "    # Use all available CPUs, but you can reduce the number if you wish to leave some CPUs free.\n",
    "    NUM_PROCESSES = os.cpu_count()  \n",
    "\n",
    "    with cf.ProcessPoolExecutor(max_workers=NUM_PROCESSES) as executor:\n",
    "        documents_list = list(executor.map(PP.process, article_chunks))\n",
    "\n",
    "    # Flatten the documents_list to get a single list of documents\n",
    "    documents = [doc for sublist in documents_list for doc in sublist]\n",
    "    return documents\n",
    "\n",
    "documents = parallel_preprocessing(articles)"
   ]
  }
 ],
 "metadata": {
  "kernelspec": {
   "display_name": "Python 3",
   "language": "python",
   "name": "python3"
  },
  "language_info": {
   "codemirror_mode": {
    "name": "ipython",
    "version": 3
   },
   "file_extension": ".py",
   "mimetype": "text/x-python",
   "name": "python",
   "nbconvert_exporter": "python",
   "pygments_lexer": "ipython3",
   "version": "3.11.6"
  },
  "orig_nbformat": 4,
  "vscode": {
   "interpreter": {
    "hash": "b0fa6594d8f4cbf19f97940f81e996739fb7646882a419484c72d19e05852a7e"
   }
  }
 },
 "nbformat": 4,
 "nbformat_minor": 2
}
